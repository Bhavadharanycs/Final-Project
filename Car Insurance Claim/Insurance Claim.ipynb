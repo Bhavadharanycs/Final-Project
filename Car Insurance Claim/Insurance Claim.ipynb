import pandas as pd
import numpy as np
import seaborn as sns
import matplotlib.pyplot as plt
from sklearn.model_selection import train_test_split
from sklearn.preprocessing import OneHotEncoder, StandardScaler
from sklearn.ensemble import RandomForestRegressor
from sklearn.metrics import mean_squared_error, r2_score
import streamlit as st

# Streamlit App Setup
st.title("Car Insurance Claim Prediction")

# Load the dataset
data_path = 'car_insurance_claim.csv'
@st.cache
def load_data():
    data = pd.read_csv(data_path)
    return data

data = load_data()

# Data Cleaning
monetary_columns = ['INCOME', 'HOME_VAL', 'CLM_AMT', 'OLDCLAIM']

def clean_monetary_columns(df, columns):
    for col in columns:
        df[col] = df[col].replace({'\$': '', ',': ''}, regex=True).replace('', '0')
        df[col] = pd.to_numeric(df[col], errors='coerce')
    return df

data = clean_monetary_columns(data, monetary_columns)

# Fill missing values
numeric_cols = ['AGE', 'YOJ', 'INCOME', 'HOME_VAL', 'CAR_AGE']
for col in numeric_cols:
    data[col] = data[col].fillna(data[col].median())

categorical_cols = ['OCCUPATION']
for col in categorical_cols:
    data[col] = data[col].fillna(data[col].mode()[0])

data['CAR_AGE'] = data['CAR_AGE'].apply(lambda x: max(x, data['CAR_AGE'].median()))

# Encode categorical variables
categorical_features = ['PARENT1', 'MSTATUS', 'GENDER', 'CAR_USE', 'CAR_TYPE', 'RED_CAR', 'REVOKED', 'URBANICITY']
encoder = OneHotEncoder(drop='first', sparse=False)
categorical_encoded = pd.DataFrame(encoder.fit_transform(data[categorical_features]), columns=encoder.get_feature_names_out(categorical_features))

# Merge encoded features and drop original categorical columns
data = pd.concat([data, categorical_encoded], axis=1)
data = data.drop(columns=categorical_features)

# Feature Selection
features = [col for col in data.columns if col != 'CLM_AMT']
X = data[features]
y = data['CLM_AMT']

# Train-Test Split
X_train, X_test, y_train, y_test = train_test_split(X, y, test_size=0.2, random_state=42)

# Standardize numerical features
scaler = StandardScaler()
X_train = scaler.fit_transform(X_train)
X_test = scaler.transform(X_test)

# Model Training
model = RandomForestRegressor(random_state=42)
model.fit(X_train, y_train)

# Streamlit Input for Predictions
st.sidebar.header("Input Features")

def user_input_features():
    input_data = {}
    for feature in features:
        if feature in numeric_cols:
            input_data[feature] = st.sidebar.number_input(f"{feature}", value=float(data[feature].median()))
        else:
            input_data[feature] = st.sidebar.selectbox(f"{feature}", data[feature].unique())
    return pd.DataFrame([input_data])

input_df = user_input_features()
input_df_encoded = pd.concat([input_df, categorical_encoded.loc[:0].drop(columns=input_df.columns, errors='ignore')], axis=1)
input_df_scaled = scaler.transform(input_df_encoded)

# Prediction
if st.button("Predict Claim Amount"):
    prediction = model.predict(input_df_scaled)[0]
    st.write(f"Predicted Claim Amount: ${prediction:,.2f}")

# Model Evaluation
st.write("### Model Evaluation")
y_pred = model.predict(X_test)
mse = mean_squared_error(y_test, y_pred)
r2 = r2_score(y_test, y_pred)
st.write(f"Mean Squared Error: {mse:.2f}")
st.write(f"R2 Score: {r2:.2f}")
