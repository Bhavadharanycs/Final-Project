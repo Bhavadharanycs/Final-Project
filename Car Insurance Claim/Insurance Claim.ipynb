{
 "cells": [
  {
   "cell_type": "code",
   "execution_count": null,
   "id": "d4f9e06a-9c1d-4507-8e4f-a89dbf4c6e72",
   "metadata": {},
   "outputs": [],
   "source": [
    "import numpy as np\n",
    "import pandas as pd\n",
    "from sklearn.preprocessing import LabelEncoder\n",
    "from sklearn.metrics import confusion_matrix\n",
    "from sklearn.model_selection import train_test_split\n",
    "from sklearn.svm import SVC\n",
    "from sklearn.metrics import accuracy_score, roc_curve, roc_auc_score\n",
    "from sklearn.metrics import classification_report\n",
    "import seaborn as sns\n",
    "import matplotlib.pyplot as plt\n",
    "import warnings\n",
    "warnings.filterwarnings(\"ignore\")\n",
    "from sklearn import metrics\n",
    "plt.style.use('ggplot')\n",
    "from sklearn.preprocessing import StandardScaler\n",
    "from sklearn.preprocessing import MinMaxScaler"
   ]
  },
  {
   "cell_type": "code",
   "execution_count": null,
   "id": "b43b6b75-c8cc-4833-81b6-628c21efdc74",
   "metadata": {},
   "outputs": [],
   "source": [
    "raw = pd.read_csv(\"car_insurance_claim.csv\")\n",
    "raw.shape\n",
    "raw.head()\n",
    "list(raw)\n",
    "print(str(raw))"
   ]
  },
  {
   "cell_type": "code",
   "execution_count": null,
   "id": "d8335db6-ba12-497b-855c-60809ac6a28a",
   "metadata": {},
   "outputs": [],
   "source": [
    "df = raw.drop(['ID','BIRTH','OCCUPATION','CAR_TYPE','CLAIM_FLAG'], axis=1)\n",
    "#Convert all the 'No' ,'Female' ,'Private' and 'Rural' categpries into numberic values(0).\n",
    "df = df.replace(['No', 'z_No', 'no', 'z_F', 'Private', 'z_Highly Rural/ Rural'], \n",
    "                     [0, 0, 0, 0, 0, 0]) \n",
    "#Convert all the 'Yes' ,'Male' ,'Commerical' and 'Urban' categpries into numberic values(1).\n",
    "df = df.replace(['Yes', 'yes', 'M', 'Commercial', 'Highly Urban/ Urban'], \n",
    "                     [1, 1, 1, 1, 1]) \n",
    "#Convert the education level into numberic values(0-3).\n",
    "df = df.replace(['z_High School', '<High School', 'Bachelors', 'Masters', 'PhD'], \n",
    "                     [0, 0, 1, 2, 3]) \n",
    "df.dtypes"
   ]
  },
  {
   "cell_type": "code",
   "execution_count": null,
   "id": "5c1b4912-c8b8-455d-a225-12b5bd321eca",
   "metadata": {},
   "outputs": [],
   "source": [
    "#Convert 'object' and 'float' columns into dtype'int'.\n",
    "df[df.columns[4]]=df[df.columns[4]].replace('[\\$,]', '', regex=True).astype(float)\n",
    "df[df.columns[6]]=df[df.columns[6]].replace('[\\$,]', '', regex=True).astype(float)\n",
    "df[df.columns[12]]=df[df.columns[12]].replace('[\\$,]', '', regex=True).astype(float)\n",
    "df[df.columns[15]]=df[df.columns[15]].replace('[\\$,]', '', regex=True).astype(float)\n",
    "df[df.columns[19]]=df[df.columns[19]].replace('[\\$,]', '', regex=True).astype(float)\n",
    "df[df.columns[0:23]]=df[df.columns[0:23]].astype(float)\n",
    "df.shape\n",
    "df.info()"
   ]
  },
  {
   "cell_type": "code",
   "execution_count": null,
   "id": "f7448856-24f4-4281-82b9-0a77d8f7e293",
   "metadata": {},
   "outputs": [],
   "source": [
    "def structure(x):\n",
    "    \n",
    "    print(\"Mean                   :\", x.mean())\n",
    "    print(\"Median                 :\", x.median())\n",
    "    print(\"Minimum                :\", x.min())\n",
    "    print(\"Maximum                :\", x.max())\n",
    "    print(\"25th percentile of arr :\", \n",
    "       np.percentile(x, 25)) \n",
    "    print(\"50th percentile of arr :\",  \n",
    "       np.percentile(x, 50)) \n",
    "    print(\"75th percentile of arr :\", \n",
    "       np.percentile(x, 75))"
   ]
  },
  {
   "cell_type": "code",
   "execution_count": null,
   "id": "eb9c7d6e-2094-4fa5-b89b-18f93ff38c34",
   "metadata": {},
   "outputs": [],
   "source": [
    "clmamt = df.loc[:,('CLM_AMT')]\n",
    "structure(clmamt)\n",
    "plt.boxplot(clmamt)\n",
    "plt.show()"
   ]
  },
  {
   "cell_type": "code",
   "execution_count": null,
   "id": "76b2a9e3-b55c-44af-88d5-3cb0b5cd4662",
   "metadata": {},
   "outputs": [],
   "source": [
    "#Distribution of the claim amount\n",
    "clmamt.plot.hist(grid=True, bins=20, rwidth=0.9,\n",
    "                   color='#607c8e')\n",
    "plt.title('Distribution of Claim Amount')\n",
    "plt.xlabel('Claim Amount')\n",
    "plt.ylabel('Count')\n",
    "plt.grid(axis='y', alpha=0.75)\n",
    "plt.show()"
   ]
  },
  {
   "cell_type": "code",
   "execution_count": null,
   "id": "5cacdc35-ee6f-4918-bf89-9306a6962ab7",
   "metadata": {},
   "outputs": [],
   "source": [
    "#Remove outliers\n",
    "df1w = df[df.CLM_AMT<10000]\n",
    "df1w.to_csv('df1w.csv')\n",
    "df1w.info()"
   ]
  },
  {
   "cell_type": "code",
   "execution_count": null,
   "id": "1993e7fe-9202-4924-af72-87343b309b63",
   "metadata": {},
   "outputs": [],
   "source": [
    "#Distribution of the claim amount(after removing outliers)\n",
    "df1w.loc[:,('CLM_AMT')].plot.hist(grid=True, bins=20, rwidth=0.9,\n",
    "                   color='#607c8e')\n",
    "plt.title('Distribution of Claim Amount(without outliers)')\n",
    "plt.xlabel('Claim Amount')\n",
    "plt.ylabel('Count')\n",
    "plt.grid(axis='y', alpha=0.75)"
   ]
  },
  {
   "cell_type": "code",
   "execution_count": null,
   "id": "54052a78-0228-4685-81f2-ae4d112c3e53",
   "metadata": {},
   "outputs": [],
   "source": [
    "def corrplt(df,col):\n",
    "    X = df.loc[:, (list(df1w))]  #independent columns\n",
    "    y = df.loc[:,(col)]    #target column\n",
    "    #get correlations of each features in dataset\n",
    "    corrmat = df.corr()\n",
    "    top_corr_features = corrmat.index\n",
    "    plt.figure(figsize=(20,20))\n",
    "    #plot heat map\n",
    "    g=sns.heatmap(df[top_corr_features].corr(),annot=True,cmap=\"RdYlGn\")\n",
    "    plt.savefig('Corr.png')"
   ]
  },
  {
   "cell_type": "code",
   "execution_count": null,
   "id": "f44828a4-fa20-4861-9f74-4e00dbab65b9",
   "metadata": {},
   "outputs": [],
   "source": [
    "def decisiontree(df,col):\n",
    "    X = df.loc[:, ('KIDSDRIV','AGE','HOMEKIDS','YOJ','INCOME','PARENT1','HOME_VAL','MSTATUS','GENDER','EDUCATION',\n",
    "                   'TRAVTIME','CAR_USE','BLUEBOOK','RED_CAR','OLDCLAIM','CLM_FREQ','REVOKED','MVR_PTS','CAR_AGE',\n",
    "                   'URBANICITY')]  #independent columns\n",
    "    y = df.loc[:,(col)]    #target column\n",
    "    from sklearn.ensemble import ExtraTreesClassifier\n",
    "    import matplotlib.pyplot as plt\n",
    "    model = ExtraTreesClassifier()\n",
    "    model.fit(X,y)\n",
    "    print(model.feature_importances_) #use inbuilt class feature_importances of tree based classifiers\n",
    "    #plot graph of feature importances for better visualization\n",
    "    feat_importances = pd.Series(model.feature_importances_, index=X.columns)\n",
    "    feat_importances.nlargest(10).plot(kind='barh')\n",
    "    plt.savefig('DT.png')\n",
    "    plt.show()"
   ]
  },
  {
   "cell_type": "code",
   "execution_count": null,
   "id": "87017b3c-6ff6-4f81-9e72-5a5bb1a8da13",
   "metadata": {},
   "outputs": [],
   "source": [
    "#Select the top5 important features\n",
    "top5 = df1w.loc[:,('BLUEBOOK','TRAVTIME','INCOME','MVR_PTS','AGE','CLM_AMT')]\n",
    "#top5.info()\n",
    "top5.dropna().info()\n",
    "top5.dropna().head()"
   ]
  },
  {
   "cell_type": "code",
   "execution_count": null,
   "id": "e77cb873-b42d-487b-8336-7ec313c9c3f2",
   "metadata": {},
   "outputs": [],
   "source": [
    "CLM10 = top5.dropna().loc[(top5.dropna().CLM_AMT >= 0) , ['BLUEBOOK','TRAVTIME','INCOME','MVR_PTS','AGE','CLM_AMT']]\n",
    "CLM10.CLM_AMT[CLM10.CLM_AMT>0] = 1 \n",
    "CLM10.head(10)\n"
   ]
  },
  {
   "cell_type": "code",
   "execution_count": null,
   "id": "cee9c0ec-6c83-495f-b6e9-19412bbfe555",
   "metadata": {},
   "outputs": [],
   "source": [
    "CLM0 = CLM10.loc[(CLM10.CLM_AMT == 0) , ['BLUEBOOK','TRAVTIME','INCOME','MVR_PTS','AGE','CLM_AMT']]\n",
    "CLM0.head()"
   ]
  },
  {
   "cell_type": "code",
   "execution_count": null,
   "id": "7daf2b52-63ee-4a48-96db-d712d0b6ae56",
   "metadata": {},
   "outputs": [],
   "source": [
    "#The data of clients with claim.\n",
    "CLM1 = CLM10.loc[(CLM10.CLM_AMT > 0) , ['BLUEBOOK','TRAVTIME','INCOME','MVR_PTS','AGE','CLM_AMT']]\n",
    "CLM1.head()\n",
    "\n",
    "#The amount of clients with specific claim amount.\n",
    "CLM1value = top5.dropna().loc[(top5.dropna().CLM_AMT>0), ['BLUEBOOK','TRAVTIME','INCOME','MVR_PTS','AGE','CLM_AMT']]\n",
    "#Save the csv document for the following research\n",
    "CLM1value.to_csv('CLM1value.csv')\n",
    "CLM1value.info()\n",
    "CLM1value.head(10)"
   ]
  },
  {
   "cell_type": "code",
   "execution_count": null,
   "id": "0a55d38b-ce2a-4877-8d6a-4664de85565a",
   "metadata": {},
   "outputs": [],
   "source": [
    "from sklearn.preprocessing import LabelEncoder\n",
    "X_data = pd.get_dummies(CLM10.iloc[:,:-1])\n",
    "X = X_data.values\n",
    "# encoding the class with sklearn's LabelEncoder\n",
    "Y_data = CLM10.values[:, -1]\n",
    "class_le = LabelEncoder()\n",
    "# fit and transform the class\n",
    "y = class_le.fit_transform(Y_data)\n",
    "# Spliting the dataset into train and test\n",
    "X_train, X_test, y_train, y_test = train_test_split(X, y, test_size=0.3, random_state=10)\n",
    "# perform training\n",
    "# creating the classifier object\n",
    "clf = SVC(kernel=\"linear\")\n",
    "X_train\n",
    "y_train\n",
    "# performing training\n",
    "clf.fit(X_train, y_train)\n",
    "# make predictions\n",
    "# predicton on test\n",
    "y_pred = clf.predict(X_test)\n",
    "# calculate metrics\n",
    "print(\"\\n\")\n",
    "print(\"Classification Report: \")\n",
    "print(classification_report(y_test,y_pred))\n",
    "print(\"\\n\")\n",
    "print(\"Accuracy : \", accuracy_score(y_test, y_pred) * 100)\n",
    "print(\"\\n\")\n"
   ]
  },
  {
   "cell_type": "code",
   "execution_count": null,
   "id": "cf20cddd-4b97-45eb-8037-aacc52bbca40",
   "metadata": {},
   "outputs": [],
   "source": [
    "# here we will display top 20 features (top 10 max positive and negative coefficient values)\n",
    "def coef_values(coef, names):\n",
    "    imp = coef\n",
    "    print(imp)\n",
    "    imp,names = zip(*sorted(zip(imp.ravel(),names)))\n",
    "    imp_pos_10 = imp[:]\n",
    "    names_pos_10 = names[:]\n",
    "    imp_neg_10 = imp[:]\n",
    "    names_neg_10 = names[:]\n",
    "    imp_top_20 = imp_neg_10+imp_pos_10\n",
    "    names_top_20 =  names_neg_10+names_pos_10\n",
    "    plt.barh(range(len(names_top_20)), imp_top_20, align='center')\n",
    "    plt.yticks(range(len(names_top_20)), names_top_20)\n",
    "    plt.show()\n",
    "    "
   ]
  },
  {
   "cell_type": "code",
   "execution_count": null,
   "id": "2b20896d-c10f-4fcd-97e5-04305f0a8045",
   "metadata": {},
   "outputs": [],
   "source": [
    "# get the column names\n",
    "features_names = X_data.columns\n",
    "# call the function\n",
    "coef_values(clf.coef_, features_names)"
   ]
  },
  {
   "cell_type": "code",
   "execution_count": null,
   "id": "e04264f6-f83c-4e01-858c-3cfcfdcd83d8",
   "metadata": {},
   "outputs": [],
   "source": [
    "#import data\n",
    "CLM1value=pd.read_csv(\"Clm1value.csv\",index_col=[0])\n",
    "CLM1value.info()\n",
    "\n",
    "#Dataframe Standerdization\n",
    "from sklearn import preprocessing\n",
    "scaler = preprocessing.MinMaxScaler()\n",
    "dfTest = CLM1value\n",
    "min_max_scaler = preprocessing.MinMaxScaler()\n",
    "def scaleColumns(df, cols_to_scale):\n",
    "    for col in cols_to_scale:\n",
    "        df[col] = pd.DataFrame(min_max_scaler.fit_transform(pd.DataFrame(dfTest[col])),columns=[col])\n",
    "    return df"
   ]
  },
  {
   "cell_type": "code",
   "execution_count": null,
   "id": "f0932eab-67af-488f-9b4a-73fc830656ce",
   "metadata": {},
   "outputs": [],
   "source": [
    "clmstd = scaleColumns(CLM1value,list(CLM1value))\n",
    "clmstd.head()\n",
    "X = clmstd.dropna().iloc[:,:-1]\n",
    "Y= clmstd.dropna().iloc[:, -1]"
   ]
  },
  {
   "cell_type": "code",
   "execution_count": null,
   "id": "c964f638-6469-4cfa-bd04-8e613ee75681",
   "metadata": {},
   "outputs": [],
   "source": [
    "\n",
    "#indexing features and target\n",
    "x1 = CLM1value.dropna().iloc[:,0:5]\n",
    "y1 = CLM1value.dropna().iloc[:,[-1]]\n",
    "print (x1.head())\n",
    "print (y1.head())\n"
   ]
  },
  {
   "cell_type": "code",
   "execution_count": null,
   "id": "932a8852-c2ac-4a85-b6f8-76722ae5e398",
   "metadata": {},
   "outputs": [],
   "source": [
    "from sklearn.model_selection import train_test_split\n",
    "import random\n",
    "random.seed(1234) #set seed for repeatable data\n",
    "x_train, x_test, y_train, y_test = train_test_split(x1, y1, test_size=0.3)\n",
    "#x_test1, x_val1, y_test1, y_val1 = train_test_split(x_test1, y_test1, test_size=0.5)\n",
    "print(len(y_test.values))\n"
   ]
  }
 ],
 "metadata": {
  "kernelspec": {
   "display_name": "Python 3 (ipykernel)",
   "language": "python",
   "name": "python3"
  },
  "language_info": {
   "codemirror_mode": {
    "name": "ipython",
    "version": 3
   },
   "file_extension": ".py",
   "mimetype": "text/x-python",
   "name": "python",
   "nbconvert_exporter": "python",
   "pygments_lexer": "ipython3",
   "version": "3.12.1"
  }
 },
 "nbformat": 4,
 "nbformat_minor": 5
}
